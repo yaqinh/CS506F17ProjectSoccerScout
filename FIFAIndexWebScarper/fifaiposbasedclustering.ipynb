{
 "cells": [
  {
   "cell_type": "markdown",
   "metadata": {},
   "source": [
    "# Clustering based on the seperated FIFAIndex player by positions"
   ]
  },
  {
   "cell_type": "code",
   "execution_count": 1,
   "metadata": {
    "collapsed": true
   },
   "outputs": [],
   "source": [
    "import pandas as pd\n",
    "import numpy as np\n",
    "import os\n",
    "import seaborn as sns\n",
    "import matplotlib.pyplot as plt\n",
    "from scipy import stats\n",
    "from sklearn.decomposition import PCA\n",
    "from sklearn.cluster import KMeans, DBSCAN, AgglomerativeClustering\n",
    "from sklearn import metrics\n",
    "from collections import defaultdict\n",
    "\n",
    "def most_common(lst):\n",
    "    return max(set(lst), key=lst.count)"
   ]
  },
  {
   "cell_type": "code",
   "execution_count": 2,
   "metadata": {},
   "outputs": [
    {
     "name": "stdout",
     "output_type": "stream",
     "text": [
      "(34922, 60)\n"
     ]
    },
    {
     "data": {
      "text/html": [
       "<div>\n",
       "<table border=\"1\" class=\"dataframe\">\n",
       "  <thead>\n",
       "    <tr style=\"text-align: right;\">\n",
       "      <th></th>\n",
       "      <th>PlayerID</th>\n",
       "      <th>Name</th>\n",
       "      <th>UpdateDate</th>\n",
       "      <th>Country</th>\n",
       "      <th>IsHomeGrown</th>\n",
       "      <th>OverallScore</th>\n",
       "      <th>PotentialScore</th>\n",
       "      <th>PotentialGrowth(%)</th>\n",
       "      <th>Height</th>\n",
       "      <th>Weight</th>\n",
       "      <th>...</th>\n",
       "      <th>FKAcc</th>\n",
       "      <th>Penalties</th>\n",
       "      <th>Volleys</th>\n",
       "      <th>GKPositioning</th>\n",
       "      <th>GKDiving</th>\n",
       "      <th>GKHandling</th>\n",
       "      <th>GKKicking</th>\n",
       "      <th>GKReflexes</th>\n",
       "      <th>GoodAtAttack</th>\n",
       "      <th>GoodBallSense</th>\n",
       "    </tr>\n",
       "  </thead>\n",
       "  <tbody>\n",
       "    <tr>\n",
       "      <th>0</th>\n",
       "      <td>Mesut Özil 10/15/1988</td>\n",
       "      <td>Mesut Özil</td>\n",
       "      <td>Dec_12_2016</td>\n",
       "      <td>Germany</td>\n",
       "      <td>0</td>\n",
       "      <td>89</td>\n",
       "      <td>0.864865</td>\n",
       "      <td>0.000000</td>\n",
       "      <td>0.500</td>\n",
       "      <td>0.431818</td>\n",
       "      <td>...</td>\n",
       "      <td>0.853659</td>\n",
       "      <td>0.658824</td>\n",
       "      <td>0.816092</td>\n",
       "      <td>0.058824</td>\n",
       "      <td>0.057471</td>\n",
       "      <td>0.144444</td>\n",
       "      <td>0.104651</td>\n",
       "      <td>0.146067</td>\n",
       "      <td>0</td>\n",
       "      <td>0</td>\n",
       "    </tr>\n",
       "    <tr>\n",
       "      <th>1</th>\n",
       "      <td>Harry Kane 07/28/1993</td>\n",
       "      <td>Harry Kane</td>\n",
       "      <td>Dec_12_2016</td>\n",
       "      <td>England</td>\n",
       "      <td>1</td>\n",
       "      <td>84</td>\n",
       "      <td>0.891892</td>\n",
       "      <td>0.152174</td>\n",
       "      <td>0.625</td>\n",
       "      <td>0.659091</td>\n",
       "      <td>...</td>\n",
       "      <td>0.695122</td>\n",
       "      <td>0.835294</td>\n",
       "      <td>0.735632</td>\n",
       "      <td>0.152941</td>\n",
       "      <td>0.080460</td>\n",
       "      <td>0.100000</td>\n",
       "      <td>0.116279</td>\n",
       "      <td>0.112360</td>\n",
       "      <td>1</td>\n",
       "      <td>0</td>\n",
       "    </tr>\n",
       "    <tr>\n",
       "      <th>2</th>\n",
       "      <td>Coutinho 06/12/1992</td>\n",
       "      <td>Coutinho</td>\n",
       "      <td>Dec_12_2016</td>\n",
       "      <td>Brazil</td>\n",
       "      <td>0</td>\n",
       "      <td>85</td>\n",
       "      <td>0.891892</td>\n",
       "      <td>0.130435</td>\n",
       "      <td>0.200</td>\n",
       "      <td>0.250000</td>\n",
       "      <td>...</td>\n",
       "      <td>0.853659</td>\n",
       "      <td>0.623529</td>\n",
       "      <td>0.793103</td>\n",
       "      <td>0.152941</td>\n",
       "      <td>0.126437</td>\n",
       "      <td>0.066667</td>\n",
       "      <td>0.093023</td>\n",
       "      <td>0.056180</td>\n",
       "      <td>1</td>\n",
       "      <td>0</td>\n",
       "    </tr>\n",
       "    <tr>\n",
       "      <th>3</th>\n",
       "      <td>Sergio Agüero 06/02/1988</td>\n",
       "      <td>Sergio Agüero</td>\n",
       "      <td>Dec_12_2016</td>\n",
       "      <td>Argentina</td>\n",
       "      <td>0</td>\n",
       "      <td>89</td>\n",
       "      <td>0.864865</td>\n",
       "      <td>0.000000</td>\n",
       "      <td>0.225</td>\n",
       "      <td>0.386364</td>\n",
       "      <td>...</td>\n",
       "      <td>0.768293</td>\n",
       "      <td>0.811765</td>\n",
       "      <td>0.908046</td>\n",
       "      <td>0.117647</td>\n",
       "      <td>0.137931</td>\n",
       "      <td>0.155556</td>\n",
       "      <td>0.058140</td>\n",
       "      <td>0.146067</td>\n",
       "      <td>1</td>\n",
       "      <td>0</td>\n",
       "    </tr>\n",
       "    <tr>\n",
       "      <th>4</th>\n",
       "      <td>Nemanja Matić 08/01/1988</td>\n",
       "      <td>Nemanja Matić</td>\n",
       "      <td>Dec_12_2016</td>\n",
       "      <td>Serbia</td>\n",
       "      <td>0</td>\n",
       "      <td>84</td>\n",
       "      <td>0.729730</td>\n",
       "      <td>0.000000</td>\n",
       "      <td>0.775</td>\n",
       "      <td>0.613636</td>\n",
       "      <td>...</td>\n",
       "      <td>0.707317</td>\n",
       "      <td>0.682353</td>\n",
       "      <td>0.781609</td>\n",
       "      <td>0.152941</td>\n",
       "      <td>0.068966</td>\n",
       "      <td>0.155556</td>\n",
       "      <td>0.127907</td>\n",
       "      <td>0.089888</td>\n",
       "      <td>0</td>\n",
       "      <td>1</td>\n",
       "    </tr>\n",
       "    <tr>\n",
       "      <th>5</th>\n",
       "      <td>Vincent Kompany 04/10/1986</td>\n",
       "      <td>Vincent Kompany</td>\n",
       "      <td>Dec_12_2016</td>\n",
       "      <td>Belgium</td>\n",
       "      <td>0</td>\n",
       "      <td>85</td>\n",
       "      <td>0.756757</td>\n",
       "      <td>0.000000</td>\n",
       "      <td>0.725</td>\n",
       "      <td>0.636364</td>\n",
       "      <td>...</td>\n",
       "      <td>0.524390</td>\n",
       "      <td>0.611765</td>\n",
       "      <td>0.459770</td>\n",
       "      <td>0.082353</td>\n",
       "      <td>0.103448</td>\n",
       "      <td>0.088889</td>\n",
       "      <td>0.046512</td>\n",
       "      <td>0.056180</td>\n",
       "      <td>0</td>\n",
       "      <td>0</td>\n",
       "    </tr>\n",
       "    <tr>\n",
       "      <th>6</th>\n",
       "      <td>Cesc Fàbregas 05/04/1987</td>\n",
       "      <td>Cesc Fàbregas</td>\n",
       "      <td>Dec_12_2016</td>\n",
       "      <td>Spain</td>\n",
       "      <td>0</td>\n",
       "      <td>86</td>\n",
       "      <td>0.783784</td>\n",
       "      <td>0.000000</td>\n",
       "      <td>0.300</td>\n",
       "      <td>0.386364</td>\n",
       "      <td>...</td>\n",
       "      <td>0.878049</td>\n",
       "      <td>0.811765</td>\n",
       "      <td>0.862069</td>\n",
       "      <td>0.164706</td>\n",
       "      <td>0.057471</td>\n",
       "      <td>0.100000</td>\n",
       "      <td>0.081395</td>\n",
       "      <td>0.157303</td>\n",
       "      <td>0</td>\n",
       "      <td>1</td>\n",
       "    </tr>\n",
       "    <tr>\n",
       "      <th>7</th>\n",
       "      <td>Riyad Mahrez 02/21/1991</td>\n",
       "      <td>Riyad Mahrez</td>\n",
       "      <td>Dec_12_2016</td>\n",
       "      <td>Algeria</td>\n",
       "      <td>0</td>\n",
       "      <td>84</td>\n",
       "      <td>0.810811</td>\n",
       "      <td>0.086957</td>\n",
       "      <td>0.400</td>\n",
       "      <td>0.113636</td>\n",
       "      <td>...</td>\n",
       "      <td>0.768293</td>\n",
       "      <td>0.717647</td>\n",
       "      <td>0.747126</td>\n",
       "      <td>0.117647</td>\n",
       "      <td>0.160920</td>\n",
       "      <td>0.088889</td>\n",
       "      <td>0.139535</td>\n",
       "      <td>0.056180</td>\n",
       "      <td>0</td>\n",
       "      <td>0</td>\n",
       "    </tr>\n",
       "    <tr>\n",
       "      <th>8</th>\n",
       "      <td>Granit Xhaka 09/27/1992</td>\n",
       "      <td>Granit Xhaka</td>\n",
       "      <td>Dec_12_2016</td>\n",
       "      <td>Switzerland</td>\n",
       "      <td>0</td>\n",
       "      <td>84</td>\n",
       "      <td>0.810811</td>\n",
       "      <td>0.086957</td>\n",
       "      <td>0.550</td>\n",
       "      <td>0.568182</td>\n",
       "      <td>...</td>\n",
       "      <td>0.743902</td>\n",
       "      <td>0.564706</td>\n",
       "      <td>0.505747</td>\n",
       "      <td>0.070588</td>\n",
       "      <td>0.068966</td>\n",
       "      <td>0.077778</td>\n",
       "      <td>0.116279</td>\n",
       "      <td>0.134831</td>\n",
       "      <td>0</td>\n",
       "      <td>0</td>\n",
       "    </tr>\n",
       "    <tr>\n",
       "      <th>9</th>\n",
       "      <td>Claudio Bravo 04/13/1983</td>\n",
       "      <td>Claudio Bravo</td>\n",
       "      <td>Dec_12_2016</td>\n",
       "      <td>Chile</td>\n",
       "      <td>0</td>\n",
       "      <td>85</td>\n",
       "      <td>0.756757</td>\n",
       "      <td>0.000000</td>\n",
       "      <td>0.525</td>\n",
       "      <td>0.522727</td>\n",
       "      <td>...</td>\n",
       "      <td>0.621951</td>\n",
       "      <td>0.141176</td>\n",
       "      <td>0.057471</td>\n",
       "      <td>0.905882</td>\n",
       "      <td>0.942529</td>\n",
       "      <td>0.933333</td>\n",
       "      <td>1.000000</td>\n",
       "      <td>0.943820</td>\n",
       "      <td>0</td>\n",
       "      <td>0</td>\n",
       "    </tr>\n",
       "  </tbody>\n",
       "</table>\n",
       "<p>10 rows × 60 columns</p>\n",
       "</div>"
      ],
      "text/plain": [
       "                     PlayerID             Name   UpdateDate      Country  \\\n",
       "0       Mesut Özil 10/15/1988       Mesut Özil  Dec_12_2016      Germany   \n",
       "1       Harry Kane 07/28/1993       Harry Kane  Dec_12_2016      England   \n",
       "2         Coutinho 06/12/1992         Coutinho  Dec_12_2016       Brazil   \n",
       "3    Sergio Agüero 06/02/1988    Sergio Agüero  Dec_12_2016    Argentina   \n",
       "4    Nemanja Matić 08/01/1988    Nemanja Matić  Dec_12_2016       Serbia   \n",
       "5  Vincent Kompany 04/10/1986  Vincent Kompany  Dec_12_2016      Belgium   \n",
       "6    Cesc Fàbregas 05/04/1987    Cesc Fàbregas  Dec_12_2016        Spain   \n",
       "7     Riyad Mahrez 02/21/1991     Riyad Mahrez  Dec_12_2016      Algeria   \n",
       "8     Granit Xhaka 09/27/1992     Granit Xhaka  Dec_12_2016  Switzerland   \n",
       "9    Claudio Bravo 04/13/1983    Claudio Bravo  Dec_12_2016        Chile   \n",
       "\n",
       "   IsHomeGrown  OverallScore  PotentialScore  PotentialGrowth(%)  Height  \\\n",
       "0            0            89        0.864865            0.000000   0.500   \n",
       "1            1            84        0.891892            0.152174   0.625   \n",
       "2            0            85        0.891892            0.130435   0.200   \n",
       "3            0            89        0.864865            0.000000   0.225   \n",
       "4            0            84        0.729730            0.000000   0.775   \n",
       "5            0            85        0.756757            0.000000   0.725   \n",
       "6            0            86        0.783784            0.000000   0.300   \n",
       "7            0            84        0.810811            0.086957   0.400   \n",
       "8            0            84        0.810811            0.086957   0.550   \n",
       "9            0            85        0.756757            0.000000   0.525   \n",
       "\n",
       "     Weight      ...          FKAcc Penalties   Volleys  GKPositioning  \\\n",
       "0  0.431818      ...       0.853659  0.658824  0.816092       0.058824   \n",
       "1  0.659091      ...       0.695122  0.835294  0.735632       0.152941   \n",
       "2  0.250000      ...       0.853659  0.623529  0.793103       0.152941   \n",
       "3  0.386364      ...       0.768293  0.811765  0.908046       0.117647   \n",
       "4  0.613636      ...       0.707317  0.682353  0.781609       0.152941   \n",
       "5  0.636364      ...       0.524390  0.611765  0.459770       0.082353   \n",
       "6  0.386364      ...       0.878049  0.811765  0.862069       0.164706   \n",
       "7  0.113636      ...       0.768293  0.717647  0.747126       0.117647   \n",
       "8  0.568182      ...       0.743902  0.564706  0.505747       0.070588   \n",
       "9  0.522727      ...       0.621951  0.141176  0.057471       0.905882   \n",
       "\n",
       "   GKDiving GKHandling GKKicking  GKReflexes GoodAtAttack GoodBallSense  \n",
       "0  0.057471   0.144444  0.104651    0.146067            0             0  \n",
       "1  0.080460   0.100000  0.116279    0.112360            1             0  \n",
       "2  0.126437   0.066667  0.093023    0.056180            1             0  \n",
       "3  0.137931   0.155556  0.058140    0.146067            1             0  \n",
       "4  0.068966   0.155556  0.127907    0.089888            0             1  \n",
       "5  0.103448   0.088889  0.046512    0.056180            0             0  \n",
       "6  0.057471   0.100000  0.081395    0.157303            0             1  \n",
       "7  0.160920   0.088889  0.139535    0.056180            0             0  \n",
       "8  0.068966   0.077778  0.116279    0.134831            0             0  \n",
       "9  0.942529   0.933333  1.000000    0.943820            0             0  \n",
       "\n",
       "[10 rows x 60 columns]"
      ]
     },
     "execution_count": 2,
     "metadata": {},
     "output_type": "execute_result"
    }
   ],
   "source": [
    "csv = pd.read_table('FIFIndex_BPL_players_featured.csv', sep=',', index_col = 0)\n",
    "print(csv.shape)\n",
    "csv.head(10)"
   ]
  },
  {
   "cell_type": "markdown",
   "metadata": {},
   "source": [
    "# Part1: Seperate GoalKeeper from the dataset and use Kmeans++ to cluster"
   ]
  },
  {
   "cell_type": "code",
   "execution_count": 21,
   "metadata": {},
   "outputs": [
    {
     "name": "stdout",
     "output_type": "stream",
     "text": [
      "(4088, 60)\n"
     ]
    }
   ],
   "source": [
    "gkcsv = csv[csv.PreferredPositions == 'GK']\n",
    "numeric = gkcsv._get_numeric_data().drop('OverallScore', axis=1)\n",
    "print(gkcsv.shape)"
   ]
  },
  {
   "cell_type": "code",
   "execution_count": 22,
   "metadata": {},
   "outputs": [
    {
     "data": {
      "text/plain": [
       "[['Pau López 12/13/1994', 'Dec_12_2016', 73, 'GK'],\n",
       " ['Mark Birighitti 04/17/1991', 'Dec_12_2016', 68, 'GK'],\n",
       " ['Giedrius Arlauskis 12/01/1987', 'Dec_12_2016', 69, 'GK'],\n",
       " ['Daniel Bachmann 07/09/1994', 'Dec_12_2016', 62, 'GK'],\n",
       " ['Ian Lawlor 10/27/1994', 'Dec_12_2016', 61, 'GK'],\n",
       " ['Maksymilian Stryjek 07/18/1996', 'Dec_12_2016', 58, 'GK'],\n",
       " ['Daniel Iversen 07/19/1997', 'Dec_12_2016', 56, 'GK'],\n",
       " ['Jordan Holmes 05/01/1997', 'Dec_12_2016', 54, 'GK'],\n",
       " ['Conor Mitchell 05/09/1996', 'Dec_12_2016', 54, 'GK'],\n",
       " ['Nathan Gartside 03/08/1998', 'Dec_12_2016', 54, 'GK']]"
      ]
     },
     "execution_count": 22,
     "metadata": {},
     "output_type": "execute_result"
    }
   ],
   "source": [
    "#Choose number of clusters\n",
    "k = 5\n",
    "kmeans = KMeans(n_clusters=k, init='k-means++', max_iter=100, n_init=1)\n",
    "result_k = kmeans.fit_predict(numeric)\n",
    "\n",
    "# See what players are in each cluster\n",
    "cluster_dict_k = defaultdict(list)\n",
    "for cluster_label, ind in zip(result_k, range(len(result_k))):\n",
    "    cluster_dict_k[cluster_label].append([gkcsv.iloc[csv.axes[0][ind]]['PlayerID'], gkcsv.iloc[csv.axes[0][ind]]['UpdateDate'], gkcsv.iloc[csv.axes[0][ind]]['OverallScore'], gkcsv.iloc[csv.axes[0][ind]]['PreferredPositions']])\n",
    "\n",
    "cluster_dict_k[0][0:10]"
   ]
  },
  {
   "cell_type": "code",
   "execution_count": 23,
   "metadata": {},
   "outputs": [
    {
     "name": "stdout",
     "output_type": "stream",
     "text": [
      "Result for cluster 0:\n",
      "The maximum OverallScore is 73\n",
      "The minimum OverallScore is 54\n",
      "The most common OverallScore is 54\n",
      "\n",
      "Result for cluster 1:\n",
      "The maximum OverallScore is 89\n",
      "The minimum OverallScore is 59\n",
      "The most common OverallScore is 73\n",
      "\n",
      "Result for cluster 2:\n",
      "The maximum OverallScore is 90\n",
      "The minimum OverallScore is 68\n",
      "The most common OverallScore is 75\n",
      "\n",
      "Result for cluster 3:\n",
      "The maximum OverallScore is 68\n",
      "The minimum OverallScore is 48\n",
      "The most common OverallScore is 50\n",
      "\n",
      "Result for cluster 4:\n",
      "The maximum OverallScore is 84\n",
      "The minimum OverallScore is 64\n",
      "The most common OverallScore is 76\n",
      "\n"
     ]
    }
   ],
   "source": [
    "for i in range(k):\n",
    "    score = []\n",
    "    \n",
    "    for item in cluster_dict_k[i]:\n",
    "        score.append(item[2])\n",
    "    \n",
    "    minScore = min(score)\n",
    "    maxScore = max(score)\n",
    "    \n",
    "    print('Result for cluster ' + str(i) + ':')\n",
    "    print('The maximum OverallScore is ' + str(maxScore))\n",
    "    print('The minimum OverallScore is ' + str(minScore))\n",
    "    print('The most common OverallScore is ' + str(most_common(score)))\n",
    "    print('')"
   ]
  },
  {
   "cell_type": "code",
   "execution_count": 25,
   "metadata": {},
   "outputs": [
    {
     "name": "stdout",
     "output_type": "stream",
     "text": [
      "Cluster 0:\n",
      " GKReflexes\n",
      " GKDiving\n",
      " GKPositioning\n",
      "\n",
      "Cluster 1:\n",
      " IsPhysicalAnomaly\n",
      " GKDiving\n",
      " GKReflexes\n",
      "\n",
      "Cluster 2:\n",
      " GKReflexes\n",
      " GKDiving\n",
      " GKPositioning\n",
      "\n",
      "Cluster 3:\n",
      " IsHomeGrown\n",
      " IsPhysicalAnomaly\n",
      " Height\n",
      "\n",
      "Cluster 4:\n",
      " IsHomeGrown\n",
      " GKPositioning\n",
      " GKReflexes\n",
      "\n"
     ]
    }
   ],
   "source": [
    "# Investigate the most influential features for each cluster\n",
    "desc_order_centroids = kmeans.cluster_centers_.argsort()[:, ::-1]\n",
    "\n",
    "#\n",
    "features = numeric.axes[1]\n",
    "\n",
    "for i in range(k):\n",
    "    print(\"Cluster {}:\".format(i))\n",
    "    for ind in desc_order_centroids[i, :3]:\n",
    "        print(' {}'.format(features[ind]))\n",
    "    print()"
   ]
  },
  {
   "cell_type": "markdown",
   "metadata": {},
   "source": [
    "# Part2: Seperate Defender from the dataset and use Kmeans++ to cluster"
   ]
  },
  {
   "cell_type": "code",
   "execution_count": 6,
   "metadata": {},
   "outputs": [
    {
     "name": "stdout",
     "output_type": "stream",
     "text": [
      "(11328, 60)\n"
     ]
    }
   ],
   "source": [
    "defend = ['CB', 'RB', 'LCB', 'RB', 'LB', 'LB/CB', 'CB/RB', 'LB/RB', 'RB/RM', 'CB/CDM', 'LB/CB/RB', 'LB/CB/CDM', 'CB/RB/CDM', 'RW/RB/RWB', 'LW/LB/LWB', 'RW/RB/RM/RWB', 'RW/CB/RB/RWB']\n",
    "defendcsv = csv[csv.PreferredPositions.isin(defend)]\n",
    "print(defendcsv.shape)"
   ]
  },
  {
   "cell_type": "code",
   "execution_count": 7,
   "metadata": {
    "collapsed": true
   },
   "outputs": [],
   "source": [
    "numeric = defendcsv._get_numeric_data().drop('OverallScore', axis=1)"
   ]
  },
  {
   "cell_type": "code",
   "execution_count": 8,
   "metadata": {},
   "outputs": [
    {
     "data": {
      "text/plain": [
       "[['Laurent Koscielny 09/10/1985', 'Dec_12_2016', 85, 'CB'],\n",
       " ['Nicolás Otamendi 02/12/1988', 'Dec_12_2016', 84, 'CB'],\n",
       " ['José Fonte 12/22/1983', 'Dec_12_2016', 83, 'CB'],\n",
       " ['Eric Bailly 04/12/1994', 'Dec_12_2016', 82, 'CB'],\n",
       " ['Azpilicueta 08/28/1989', 'Dec_12_2016', 84, 'LB/CB/RB'],\n",
       " ['Shkodran Mustafi 04/17/1992', 'Dec_12_2016', 83, 'CB'],\n",
       " ['David Luiz 04/22/1987', 'Dec_12_2016', 84, 'CB'],\n",
       " ['Pablo Zabaleta 01/16/1985', 'Dec_12_2016', 82, 'RB'],\n",
       " ['Mamadou Sakho 02/13/1990', 'Dec_12_2016', 82, 'CB'],\n",
       " ['Séamus Coleman 10/11/1988', 'Dec_12_2016', 82, 'RB']]"
      ]
     },
     "execution_count": 8,
     "metadata": {},
     "output_type": "execute_result"
    }
   ],
   "source": [
    "#Choose number of clusters\n",
    "kmeans = KMeans(n_clusters=k, init='k-means++', max_iter=100, n_init=1)\n",
    "result_k = kmeans.fit_predict(numeric)\n",
    "\n",
    "# See what players are in each cluster\n",
    "cluster_dict_k = defaultdict(list)\n",
    "for cluster_label, ind in zip(result_k, range(len(result_k))):\n",
    "    cluster_dict_k[cluster_label].append([defendcsv.iloc[csv.axes[0][ind]]['PlayerID'], defendcsv.iloc[csv.axes[0][ind]]['UpdateDate'], defendcsv.iloc[csv.axes[0][ind]]['OverallScore'], defendcsv.iloc[csv.axes[0][ind]]['PreferredPositions']])\n",
    "\n",
    "cluster_dict_k[0][0:10]"
   ]
  },
  {
   "cell_type": "code",
   "execution_count": 9,
   "metadata": {},
   "outputs": [
    {
     "name": "stdout",
     "output_type": "stream",
     "text": [
      "Result for cluster 0:\n",
      "The maximum OverallScore is 85\n",
      "The minimum OverallScore is 60\n",
      "The most common OverallScore is 75\n",
      "\n",
      "Result for cluster 1:\n",
      "The maximum OverallScore is 83\n",
      "The minimum OverallScore is 67\n",
      "The most common OverallScore is 73\n",
      "\n",
      "Result for cluster 2:\n",
      "The maximum OverallScore is 68\n",
      "The minimum OverallScore is 51\n",
      "The most common OverallScore is 59\n",
      "\n",
      "Result for cluster 3:\n",
      "The maximum OverallScore is 86\n",
      "The minimum OverallScore is 69\n",
      "The most common OverallScore is 76\n",
      "\n",
      "Result for cluster 4:\n",
      "The maximum OverallScore is 77\n",
      "The minimum OverallScore is 48\n",
      "The most common OverallScore is 58\n",
      "\n"
     ]
    }
   ],
   "source": [
    "for i in range(k):\n",
    "    score = []\n",
    "    \n",
    "    for item in cluster_dict_k[i]:\n",
    "        score.append(item[2])\n",
    "    \n",
    "    minScore = min(score)\n",
    "    maxScore = max(score)\n",
    "    \n",
    "    print('Result for cluster ' + str(i) + ':')\n",
    "    print('The maximum OverallScore is ' + str(maxScore))\n",
    "    print('The minimum OverallScore is ' + str(minScore))\n",
    "    print('The most common OverallScore is ' + str(most_common(score)))\n",
    "    print('')"
   ]
  },
  {
   "cell_type": "code",
   "execution_count": 11,
   "metadata": {},
   "outputs": [
    {
     "name": "stdout",
     "output_type": "stream",
     "text": [
      "Cluster 0:\n",
      " SlideTackle\n",
      " Marking\n",
      " StandTackle\n",
      "\n",
      "Cluster 1:\n",
      " IsHomeGrown\n",
      " SlideTackle\n",
      " Marking\n",
      "\n",
      "Cluster 2:\n",
      " IsPhysicalAnomaly\n",
      " IsHomeGrown\n",
      " SlideTackle\n",
      "\n",
      "Cluster 3:\n",
      " IsPhysicalAnomaly\n",
      " Marking\n",
      " SlideTackle\n",
      "\n",
      "Cluster 4:\n",
      " IsHomeGrown\n",
      " SlideTackle\n",
      " StandTackle\n",
      "\n"
     ]
    }
   ],
   "source": [
    "# Investigate the most influential features for each cluster\n",
    "desc_order_centroids = kmeans.cluster_centers_.argsort()[:, ::-1]\n",
    "\n",
    "#\n",
    "features = numeric.axes[1]\n",
    "\n",
    "for i in range(k):\n",
    "    print(\"Cluster {}:\".format(i))\n",
    "    for ind in desc_order_centroids[i, :3]:\n",
    "        print(' {}'.format(features[ind]))\n",
    "    print()"
   ]
  },
  {
   "cell_type": "markdown",
   "metadata": {},
   "source": [
    "# Part3: Seperate Midfield from the dataset and use Kmeans++ to cluster"
   ]
  },
  {
   "cell_type": "code",
   "execution_count": 12,
   "metadata": {},
   "outputs": [
    {
     "name": "stdout",
     "output_type": "stream",
     "text": [
      "(9588, 60)\n"
     ]
    }
   ],
   "source": [
    "midf = ['LW', 'LDM', 'LAM', 'LCM', 'CAM', 'CDM', 'CM', 'RM', 'LW/CAM', 'LM/RM', 'CAM/CM', 'CDM/CM', 'LM/CM', 'LM/ST/RM', 'CB/CDM/CM', 'CDM/RM/CM', 'LM/ST/RM', 'LM/CAM/RM', 'LW/LM/CAM', 'LW/LM/RW', 'CDM/CAM/CM', 'LM/CDM/CAM', 'LM/CDM/CAM/CM', 'LM/CDM/RM/CM', 'LM/CAM/RM/CM', 'LM/RW/CAM/RM']\n",
    "midfcsv = csv[csv.PreferredPositions.isin(midf)]\n",
    "print(midfcsv.shape)"
   ]
  },
  {
   "cell_type": "code",
   "execution_count": 13,
   "metadata": {
    "collapsed": true
   },
   "outputs": [],
   "source": [
    "numeric = midfcsv._get_numeric_data().drop('OverallScore', axis=1)"
   ]
  },
  {
   "cell_type": "code",
   "execution_count": 14,
   "metadata": {},
   "outputs": [
    {
     "data": {
      "text/plain": [
       "[['Lewis Cook 02/03/1997', 'Dec_12_2016', 71, 'CDM/CAM/CM'],\n",
       " ['Adam Forshaw 10/08/1991', 'Dec_12_2016', 71, 'CDM/CM'],\n",
       " ['Harrison Reed 01/27/1995', 'Dec_12_2016', 68, 'CDM'],\n",
       " ['Emerson Hyndman 04/09/1996', 'Dec_12_2016', 65, 'CM'],\n",
       " ['Brahim Díaz 03/03/1999', 'Dec_12_2016', 64, 'CAM'],\n",
       " ['Jake Hesketh 03/27/1996', 'Dec_12_2016', 63, 'CAM'],\n",
       " ['Oliver Shenton 11/06/1997', 'Dec_12_2016', 62, 'CM'],\n",
       " ['Aleix García 06/28/1997', 'Dec_12_2016', 63, 'CDM/CM'],\n",
       " ['Joe Ward 10/24/1996', 'Dec_12_2016', 62, 'CM'],\n",
       " ['Will Patching 10/18/1998', 'Dec_12_2016', 60, 'CM']]"
      ]
     },
     "execution_count": 14,
     "metadata": {},
     "output_type": "execute_result"
    }
   ],
   "source": [
    "#Choose number of clusters\n",
    "kmeans = KMeans(n_clusters=k, init='k-means++', max_iter=100, n_init=1)\n",
    "result_k = kmeans.fit_predict(numeric)\n",
    "\n",
    "# See what players are in each cluster\n",
    "cluster_dict_k = defaultdict(list)\n",
    "for cluster_label, ind in zip(result_k, range(len(result_k))):\n",
    "    cluster_dict_k[cluster_label].append([midfcsv.iloc[csv.axes[0][ind]]['PlayerID'], midfcsv.iloc[csv.axes[0][ind]]['UpdateDate'], midfcsv.iloc[csv.axes[0][ind]]['OverallScore'], midfcsv.iloc[csv.axes[0][ind]]['PreferredPositions']])\n",
    "\n",
    "cluster_dict_k[0][0:10]"
   ]
  },
  {
   "cell_type": "code",
   "execution_count": 14,
   "metadata": {
    "scrolled": true
   },
   "outputs": [
    {
     "name": "stdout",
     "output_type": "stream",
     "text": [
      "Result for cluster 0:\n",
      "The maximum OverallScore is 80\n",
      "The minimum OverallScore is 75\n",
      "The most common OverallScore is 78\n",
      "\n",
      "Result for cluster 1:\n",
      "The maximum OverallScore is 67\n",
      "The minimum OverallScore is 60\n",
      "The most common OverallScore is 62\n",
      "\n",
      "Result for cluster 2:\n",
      "The maximum OverallScore is 74\n",
      "The minimum OverallScore is 68\n",
      "The most common OverallScore is 72\n",
      "\n",
      "Result for cluster 3:\n",
      "The maximum OverallScore is 89\n",
      "The minimum OverallScore is 81\n",
      "The most common OverallScore is 81\n",
      "\n",
      "Result for cluster 4:\n",
      "The maximum OverallScore is 59\n",
      "The minimum OverallScore is 48\n",
      "The most common OverallScore is 58\n",
      "\n"
     ]
    }
   ],
   "source": [
    "for i in range(k):\n",
    "    score = []\n",
    "    \n",
    "    for item in cluster_dict_k[i]:\n",
    "        score.append(item[2])\n",
    "    \n",
    "    minScore = min(score)\n",
    "    maxScore = max(score)\n",
    "    \n",
    "    print('Result for cluster ' + str(i) + ':')\n",
    "    print('The maximum OverallScore is ' + str(maxScore))\n",
    "    print('The minimum OverallScore is ' + str(minScore))\n",
    "    print('The most common OverallScore is ' + str(most_common(score)))\n",
    "    print('')"
   ]
  },
  {
   "cell_type": "code",
   "execution_count": 15,
   "metadata": {},
   "outputs": [
    {
     "name": "stdout",
     "output_type": "stream",
     "text": [
      "Cluster 0:\n",
      " IsPhysicalAnomaly\n",
      " Balance\n",
      " ShortPass\n",
      "\n",
      "Cluster 1:\n",
      " ShortPass\n",
      " Stamina\n",
      " BallControl\n",
      "\n",
      "Cluster 2:\n",
      " Acceleration\n",
      " ShortPass\n",
      " IsHomeGrown\n",
      "\n",
      "Cluster 3:\n",
      " GoodBallSense\n",
      " ShortPass\n",
      " Stamina\n",
      "\n",
      "Cluster 4:\n",
      " BallControl\n",
      " Dribbling\n",
      " Acceleration\n",
      "\n"
     ]
    }
   ],
   "source": [
    "# Investigate the most influential features for each cluster\n",
    "desc_order_centroids = kmeans.cluster_centers_.argsort()[:, ::-1]\n",
    "\n",
    "#\n",
    "features = numeric.axes[1]\n",
    "\n",
    "for i in range(k):\n",
    "    print(\"Cluster {}:\".format(i))\n",
    "    for ind in desc_order_centroids[i, :3]:\n",
    "        print(' {}'.format(features[ind]))\n",
    "    print()"
   ]
  },
  {
   "cell_type": "markdown",
   "metadata": {},
   "source": [
    "# Part4: Seperate Offender from the dataset and use Kmeans++ to cluster"
   ]
  },
  {
   "cell_type": "code",
   "execution_count": 16,
   "metadata": {},
   "outputs": [
    {
     "name": "stdout",
     "output_type": "stream",
     "text": [
      "(4538, 60)\n"
     ]
    }
   ],
   "source": [
    "offend = ['ST', 'LS', 'RS', 'LW', 'RW', 'LM/ST', 'RW/RM', ]\n",
    "offendcsv = csv[csv.PreferredPositions.isin(offend)]\n",
    "print(offendcsv.shape)"
   ]
  },
  {
   "cell_type": "code",
   "execution_count": 17,
   "metadata": {
    "collapsed": true
   },
   "outputs": [],
   "source": [
    "numeric = offendcsv._get_numeric_data().drop('OverallScore', axis=1)"
   ]
  },
  {
   "cell_type": "code",
   "execution_count": 18,
   "metadata": {},
   "outputs": [
    {
     "data": {
      "text/plain": [
       "[['Raheem Sterling 12/08/1994', 'Dec_12_2016', 82, 'LM/ST'],\n",
       " ['Jermain Defoe 10/07/1982', 'Dec_12_2016', 80, 'ST'],\n",
       " ['Nathan Dyer 11/29/1987', 'Dec_12_2016', 77, 'RW/RM'],\n",
       " ['Saido Berahino 08/04/1993', 'Dec_12_2016', 76, 'ST'],\n",
       " ['Connor Wickham 03/31/1993', 'Dec_12_2016', 74, 'ST'],\n",
       " ['Fraizer Campbell 09/13/1987', 'Dec_12_2016', 71, 'ST'],\n",
       " ['Will Keane 01/11/1993', 'Dec_12_2016', 67, 'ST'],\n",
       " ['Dominic Calvert-Lewin 03/16/1997', 'Dec_12_2016', 63, 'LM/ST'],\n",
       " ['Shayon Harrison 07/13/1997', 'Dec_12_2016', 60, 'ST'],\n",
       " ['Jerome Sinclair 09/20/1996', 'Dec_12_2016', 59, 'ST']]"
      ]
     },
     "execution_count": 18,
     "metadata": {},
     "output_type": "execute_result"
    }
   ],
   "source": [
    "#Choose number of clusters\n",
    "kmeans = KMeans(n_clusters=k, init='k-means++', max_iter=100, n_init=1)\n",
    "result_k = kmeans.fit_predict(numeric)\n",
    "\n",
    "# See what players are in each cluster\n",
    "cluster_dict_k = defaultdict(list)\n",
    "for cluster_label, ind in zip(result_k, range(len(result_k))):\n",
    "    cluster_dict_k[cluster_label].append([offendcsv.iloc[csv.axes[0][ind]]['PlayerID'], offendcsv.iloc[csv.axes[0][ind]]['UpdateDate'], offendcsv.iloc[csv.axes[0][ind]]['OverallScore'], offendcsv.iloc[csv.axes[0][ind]]['PreferredPositions']])\n",
    "\n",
    "cluster_dict_k[0][0:10]"
   ]
  },
  {
   "cell_type": "code",
   "execution_count": 19,
   "metadata": {},
   "outputs": [
    {
     "name": "stdout",
     "output_type": "stream",
     "text": [
      "Result for cluster 0:\n",
      "The maximum OverallScore is 82\n",
      "The minimum OverallScore is 53\n",
      "The most common OverallScore is 76\n",
      "\n",
      "Result for cluster 1:\n",
      "The maximum OverallScore is 90\n",
      "The minimum OverallScore is 72\n",
      "The most common OverallScore is 81\n",
      "\n",
      "Result for cluster 2:\n",
      "The maximum OverallScore is 76\n",
      "The minimum OverallScore is 51\n",
      "The most common OverallScore is 57\n",
      "\n",
      "Result for cluster 3:\n",
      "The maximum OverallScore is 69\n",
      "The minimum OverallScore is 53\n",
      "The most common OverallScore is 62\n",
      "\n",
      "Result for cluster 4:\n",
      "The maximum OverallScore is 83\n",
      "The minimum OverallScore is 67\n",
      "The most common OverallScore is 74\n",
      "\n"
     ]
    }
   ],
   "source": [
    "for i in range(k):\n",
    "    score = []\n",
    "    \n",
    "    for item in cluster_dict_k[i]:\n",
    "        score.append(item[2])\n",
    "    \n",
    "    minScore = min(score)\n",
    "    maxScore = max(score)\n",
    "    \n",
    "    print('Result for cluster ' + str(i) + ':')\n",
    "    print('The maximum OverallScore is ' + str(maxScore))\n",
    "    print('The minimum OverallScore is ' + str(minScore))\n",
    "    print('The most common OverallScore is ' + str(most_common(score)))\n",
    "    print('')"
   ]
  },
  {
   "cell_type": "code",
   "execution_count": 20,
   "metadata": {},
   "outputs": [
    {
     "name": "stdout",
     "output_type": "stream",
     "text": [
      "Cluster 0:\n",
      " IsPhysicalAnomaly\n",
      " IsHomeGrown\n",
      " Acceleration\n",
      "\n",
      "Cluster 1:\n",
      " GoodAtAttack\n",
      " Finishing\n",
      " AttPosition\n",
      "\n",
      "Cluster 2:\n",
      " IsHomeGrown\n",
      " Acceleration\n",
      " SprintSpeed\n",
      "\n",
      "Cluster 3:\n",
      " Acceleration\n",
      " SprintSpeed\n",
      " Finishing\n",
      "\n",
      "Cluster 4:\n",
      " AttPosition\n",
      " Finishing\n",
      " BallControl\n",
      "\n"
     ]
    }
   ],
   "source": [
    "# Investigate the most influential features for each cluster\n",
    "desc_order_centroids = kmeans.cluster_centers_.argsort()[:, ::-1]\n",
    "\n",
    "#\n",
    "features = numeric.axes[1]\n",
    "\n",
    "for i in range(k):\n",
    "    print(\"Cluster {}:\".format(i))\n",
    "    for ind in desc_order_centroids[i, :3]:\n",
    "        print(' {}'.format(features[ind]))\n",
    "    print()"
   ]
  },
  {
   "cell_type": "code",
   "execution_count": null,
   "metadata": {
    "collapsed": true
   },
   "outputs": [],
   "source": []
  }
 ],
 "metadata": {
  "kernelspec": {
   "display_name": "Python 3",
   "language": "python",
   "name": "python3"
  },
  "language_info": {
   "codemirror_mode": {
    "name": "ipython",
    "version": 3
   },
   "file_extension": ".py",
   "mimetype": "text/x-python",
   "name": "python",
   "nbconvert_exporter": "python",
   "pygments_lexer": "ipython3",
   "version": "3.5.2"
  }
 },
 "nbformat": 4,
 "nbformat_minor": 2
}
